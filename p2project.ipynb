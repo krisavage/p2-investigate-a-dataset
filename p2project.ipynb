{
 "cells": [
  {
   "cell_type": "markdown",
   "metadata": {},
   "source": [
    "## Titanic Data Analysis\n",
    "\n",
    "Through this notebook we shall analyze what factors made people more likely to survive. I personally believe it has to do with gender, age and class. I will further break This question down and we can ask \"was gender and age a factor in survival\" as made popular in the Titanic movie \"women and children first\". I also want to answer \"Did adults who have a higher social class survive more than people in lower social classes?\" we would conduct this analysis by means of grouping people by both cabin and people who survived."
   ]
  },
  {
   "cell_type": "markdown",
   "metadata": {},
   "source": [
    "###### Load Data from CSV file"
   ]
  },
  {
   "cell_type": "code",
   "execution_count": 1,
   "metadata": {
    "collapsed": false
   },
   "outputs": [
    {
     "data": {
      "text/html": [
       "<div>\n",
       "<table border=\"1\" class=\"dataframe\">\n",
       "  <thead>\n",
       "    <tr style=\"text-align: right;\">\n",
       "      <th></th>\n",
       "      <th>PassengerId</th>\n",
       "      <th>Survived</th>\n",
       "      <th>Pclass</th>\n",
       "      <th>Name</th>\n",
       "      <th>Sex</th>\n",
       "      <th>Age</th>\n",
       "      <th>SibSp</th>\n",
       "      <th>Parch</th>\n",
       "      <th>Ticket</th>\n",
       "      <th>Fare</th>\n",
       "      <th>Cabin</th>\n",
       "      <th>Embarked</th>\n",
       "    </tr>\n",
       "  </thead>\n",
       "  <tbody>\n",
       "    <tr>\n",
       "      <th>0</th>\n",
       "      <td>1</td>\n",
       "      <td>0</td>\n",
       "      <td>3</td>\n",
       "      <td>Braund, Mr. Owen Harris</td>\n",
       "      <td>male</td>\n",
       "      <td>22.0</td>\n",
       "      <td>1</td>\n",
       "      <td>0</td>\n",
       "      <td>A/5 21171</td>\n",
       "      <td>7.2500</td>\n",
       "      <td>NaN</td>\n",
       "      <td>S</td>\n",
       "    </tr>\n",
       "    <tr>\n",
       "      <th>1</th>\n",
       "      <td>2</td>\n",
       "      <td>1</td>\n",
       "      <td>1</td>\n",
       "      <td>Cumings, Mrs. John Bradley (Florence Briggs Th...</td>\n",
       "      <td>female</td>\n",
       "      <td>38.0</td>\n",
       "      <td>1</td>\n",
       "      <td>0</td>\n",
       "      <td>PC 17599</td>\n",
       "      <td>71.2833</td>\n",
       "      <td>C85</td>\n",
       "      <td>C</td>\n",
       "    </tr>\n",
       "    <tr>\n",
       "      <th>2</th>\n",
       "      <td>3</td>\n",
       "      <td>1</td>\n",
       "      <td>3</td>\n",
       "      <td>Heikkinen, Miss. Laina</td>\n",
       "      <td>female</td>\n",
       "      <td>26.0</td>\n",
       "      <td>0</td>\n",
       "      <td>0</td>\n",
       "      <td>STON/O2. 3101282</td>\n",
       "      <td>7.9250</td>\n",
       "      <td>NaN</td>\n",
       "      <td>S</td>\n",
       "    </tr>\n",
       "    <tr>\n",
       "      <th>3</th>\n",
       "      <td>4</td>\n",
       "      <td>1</td>\n",
       "      <td>1</td>\n",
       "      <td>Futrelle, Mrs. Jacques Heath (Lily May Peel)</td>\n",
       "      <td>female</td>\n",
       "      <td>35.0</td>\n",
       "      <td>1</td>\n",
       "      <td>0</td>\n",
       "      <td>113803</td>\n",
       "      <td>53.1000</td>\n",
       "      <td>C123</td>\n",
       "      <td>S</td>\n",
       "    </tr>\n",
       "    <tr>\n",
       "      <th>4</th>\n",
       "      <td>5</td>\n",
       "      <td>0</td>\n",
       "      <td>3</td>\n",
       "      <td>Allen, Mr. William Henry</td>\n",
       "      <td>male</td>\n",
       "      <td>35.0</td>\n",
       "      <td>0</td>\n",
       "      <td>0</td>\n",
       "      <td>373450</td>\n",
       "      <td>8.0500</td>\n",
       "      <td>NaN</td>\n",
       "      <td>S</td>\n",
       "    </tr>\n",
       "  </tbody>\n",
       "</table>\n",
       "</div>"
      ],
      "text/plain": [
       "   PassengerId  Survived  Pclass  \\\n",
       "0            1         0       3   \n",
       "1            2         1       1   \n",
       "2            3         1       3   \n",
       "3            4         1       1   \n",
       "4            5         0       3   \n",
       "\n",
       "                                                Name     Sex   Age  SibSp  \\\n",
       "0                            Braund, Mr. Owen Harris    male  22.0      1   \n",
       "1  Cumings, Mrs. John Bradley (Florence Briggs Th...  female  38.0      1   \n",
       "2                             Heikkinen, Miss. Laina  female  26.0      0   \n",
       "3       Futrelle, Mrs. Jacques Heath (Lily May Peel)  female  35.0      1   \n",
       "4                           Allen, Mr. William Henry    male  35.0      0   \n",
       "\n",
       "   Parch            Ticket     Fare Cabin Embarked  \n",
       "0      0         A/5 21171   7.2500   NaN        S  \n",
       "1      0          PC 17599  71.2833   C85        C  \n",
       "2      0  STON/O2. 3101282   7.9250   NaN        S  \n",
       "3      0            113803  53.1000  C123        S  \n",
       "4      0            373450   8.0500   NaN        S  "
      ]
     },
     "execution_count": 1,
     "metadata": {},
     "output_type": "execute_result"
    }
   ],
   "source": [
    "#Imports\n",
    "import matplotlib.pyplot as plt\n",
    "import numpy as np\n",
    "import pandas as pd\n",
    "import seaborn as sns \n",
    "\n",
    "#Read in csv file \n",
    "\n",
    "filename = r'C:\\\\Users\\\\Krishna\\\\Desktop\\\\udacity projects\\\\p2\\\\p2 project\\\\titanic-data.csv'\n",
    "titanicdata = pd.read_csv(filename)\n",
    "\n",
    "#check to see if the data has loaded properly\n",
    "titanicdata.head()\n"
   ]
  },
  {
   "cell_type": "markdown",
   "metadata": {},
   "source": [
    "## Let's see what the data looks like before cleaning it up"
   ]
  },
  {
   "cell_type": "code",
   "execution_count": 157,
   "metadata": {
    "collapsed": false
   },
   "outputs": [
    {
     "name": "stdout",
     "output_type": "stream",
     "text": [
      "Populating the interactive namespace from numpy and matplotlib\n"
     ]
    },
    {
     "data": {
      "text/plain": [
       "<matplotlib.text.Text at 0x1ab0c860>"
      ]
     },
     "execution_count": 157,
     "metadata": {},
     "output_type": "execute_result"
    },
    {
     "data": {
      "image/png": "[encoded data removed]",
      "text/plain": [
       "<matplotlib.figure.Figure at 0x199cb2b0>"
      ]
     },
     "metadata": {},
     "output_type": "display_data"
    }
   ],
   "source": [
    "#group by age and count the number of people \n",
    "%pylab inline\n",
    "\n",
    "y = titanicdata.groupby(['Age'])['PassengerId'].count()\n",
    "N = len(y)\n",
    "x = range(N)\n",
    "plt.bar(x, y)\n",
    "plt.ylabel(\"passenger counts\")\n",
    "plt.xlabel(\"Ages\")\n",
    "plt.title(\"distribution of ages\")\n",
    "\n"
   ]
  },
  {
   "cell_type": "markdown",
   "metadata": {},
   "source": [
    "Here we see the distribution of ages on the ship. We haven't cleaned the data though so this is why I want to say that we are getting 0 values."
   ]
  },
  {
   "cell_type": "code",
   "execution_count": 25,
   "metadata": {
    "collapsed": false
   },
   "outputs": [
    {
     "data": {
      "text/plain": [
       "([<matplotlib.patches.Wedge at 0x11b807f0>,\n",
       "  <matplotlib.patches.Wedge at 0x12d09d68>,\n",
       "  <matplotlib.patches.Wedge at 0x12d189b0>],\n",
       " [<matplotlib.text.Text at 0x12d09630>,\n",
       "  <matplotlib.text.Text at 0x12d182e8>,\n",
       "  <matplotlib.text.Text at 0x12d18ef0>],\n",
       " [<matplotlib.text.Text at 0x12d099b0>,\n",
       "  <matplotlib.text.Text at 0x12d185f8>,\n",
       "  <matplotlib.text.Text at 0x12d25240>])"
      ]
     },
     "execution_count": 25,
     "metadata": {},
     "output_type": "execute_result"
    },
    {
     "data": {
      "image/png": "[encoded data removed]",
      "text/plain": [
       "<matplotlib.figure.Figure at 0x115f3278>"
      ]
     },
     "metadata": {},
     "output_type": "display_data"
    }
   ],
   "source": [
    "#output a piechart with the distribution of classes\n",
    "figure(1, figsize=(6,6))\n",
    "ax = axes([0.1, 0.1, 0.8, 0.8])\n",
    "labels = 'First Class', 'Second Class', 'Third Class'\n",
    "colors = ['yellowgreen', 'gold', 'lightskyblue']\n",
    "f = titanicdata.groupby(['Pclass'])['PassengerId'].count()\n",
    "pie(f, autopct='%1.1f%%', startangle=90, labels = labels, colors = colors)"
   ]
  },
  {
   "cell_type": "markdown",
   "metadata": {},
   "source": [
    "We see the makeup of the data according to class here. 24.2% of people were in first class, 20.7% of people were in second class and the majority of people , 55.1%, on the ship were in third class."
   ]
  },
  {
   "cell_type": "markdown",
   "metadata": {},
   "source": [
    "## Fixing Data Types"
   ]
  },
  {
   "cell_type": "markdown",
   "metadata": {
    "collapsed": true
   },
   "source": [
    "looking at the raw data file itself there are several instances where age is blank or it is half a number so what I want to do here is remove instances where the age is blank because it won't give me any relevant information. and with the half numbers i want to round it up or down to the nearest whole number."
   ]
  },
  {
   "cell_type": "markdown",
   "metadata": {},
   "source": [
    "##### Removing records with blank age"
   ]
  },
  {
   "cell_type": "code",
   "execution_count": 26,
   "metadata": {
    "collapsed": false
   },
   "outputs": [
    {
     "data": {
      "text/plain": [
       "891"
      ]
     },
     "execution_count": 26,
     "metadata": {},
     "output_type": "execute_result"
    }
   ],
   "source": [
    "#check to see length of the titanic data file\n",
    "len(titanicdata)"
   ]
  },
  {
   "cell_type": "code",
   "execution_count": 27,
   "metadata": {
    "collapsed": false
   },
   "outputs": [
    {
     "data": {
      "text/plain": [
       "714"
      ]
     },
     "execution_count": 27,
     "metadata": {},
     "output_type": "execute_result"
    }
   ],
   "source": [
    "titanicdata = titanicdata[titanicdata.Age.notnull()]\n",
    "len(titanicdata)"
   ]
  },
  {
   "cell_type": "markdown",
   "metadata": {},
   "source": [
    "##### Rounding age values"
   ]
  },
  {
   "cell_type": "code",
   "execution_count": 28,
   "metadata": {
    "collapsed": false
   },
   "outputs": [
    {
     "data": {
      "text/plain": [
       "714"
      ]
     },
     "execution_count": 28,
     "metadata": {},
     "output_type": "execute_result"
    }
   ],
   "source": [
    "#loop through each value in the age column and then apply the round function\n",
    "for x in titanicdata.Age:\n",
    "    x.round\n",
    "\n",
    "#print titanicdata.head()\n",
    "\n",
    "#check to see if length is the same after cleanup step 1\n",
    "len(titanicdata)\n",
    "\n",
    "#titanicdata = titanicdata.loc([titanicdata.Age]).apply(np.round) gave me some key error hm.."
   ]
  },
  {
   "cell_type": "markdown",
   "metadata": {},
   "source": [
    "## Data exploration"
   ]
  },
  {
   "cell_type": "markdown",
   "metadata": {},
   "source": [
    "here are some general descriptions of the data"
   ]
  },
  {
   "cell_type": "code",
   "execution_count": 29,
   "metadata": {
    "collapsed": false
   },
   "outputs": [
    {
     "data": {
      "text/html": [
       "<div>\n",
       "<table border=\"1\" class=\"dataframe\">\n",
       "  <thead>\n",
       "    <tr style=\"text-align: right;\">\n",
       "      <th></th>\n",
       "      <th>PassengerId</th>\n",
       "      <th>Survived</th>\n",
       "      <th>Pclass</th>\n",
       "      <th>Age</th>\n",
       "      <th>SibSp</th>\n",
       "      <th>Parch</th>\n",
       "      <th>Fare</th>\n",
       "    </tr>\n",
       "  </thead>\n",
       "  <tbody>\n",
       "    <tr>\n",
       "      <th>count</th>\n",
       "      <td>714.000000</td>\n",
       "      <td>714.000000</td>\n",
       "      <td>714.000000</td>\n",
       "      <td>714.000000</td>\n",
       "      <td>714.000000</td>\n",
       "      <td>714.000000</td>\n",
       "      <td>714.000000</td>\n",
       "    </tr>\n",
       "    <tr>\n",
       "      <th>mean</th>\n",
       "      <td>448.582633</td>\n",
       "      <td>0.406162</td>\n",
       "      <td>2.236695</td>\n",
       "      <td>29.699118</td>\n",
       "      <td>0.512605</td>\n",
       "      <td>0.431373</td>\n",
       "      <td>34.694514</td>\n",
       "    </tr>\n",
       "    <tr>\n",
       "      <th>std</th>\n",
       "      <td>259.119524</td>\n",
       "      <td>0.491460</td>\n",
       "      <td>0.838250</td>\n",
       "      <td>14.526497</td>\n",
       "      <td>0.929783</td>\n",
       "      <td>0.853289</td>\n",
       "      <td>52.918930</td>\n",
       "    </tr>\n",
       "    <tr>\n",
       "      <th>min</th>\n",
       "      <td>1.000000</td>\n",
       "      <td>0.000000</td>\n",
       "      <td>1.000000</td>\n",
       "      <td>0.420000</td>\n",
       "      <td>0.000000</td>\n",
       "      <td>0.000000</td>\n",
       "      <td>0.000000</td>\n",
       "    </tr>\n",
       "    <tr>\n",
       "      <th>25%</th>\n",
       "      <td>222.250000</td>\n",
       "      <td>0.000000</td>\n",
       "      <td>1.000000</td>\n",
       "      <td>20.125000</td>\n",
       "      <td>0.000000</td>\n",
       "      <td>0.000000</td>\n",
       "      <td>8.050000</td>\n",
       "    </tr>\n",
       "    <tr>\n",
       "      <th>50%</th>\n",
       "      <td>445.000000</td>\n",
       "      <td>0.000000</td>\n",
       "      <td>2.000000</td>\n",
       "      <td>28.000000</td>\n",
       "      <td>0.000000</td>\n",
       "      <td>0.000000</td>\n",
       "      <td>15.741700</td>\n",
       "    </tr>\n",
       "    <tr>\n",
       "      <th>75%</th>\n",
       "      <td>677.750000</td>\n",
       "      <td>1.000000</td>\n",
       "      <td>3.000000</td>\n",
       "      <td>38.000000</td>\n",
       "      <td>1.000000</td>\n",
       "      <td>1.000000</td>\n",
       "      <td>33.375000</td>\n",
       "    </tr>\n",
       "    <tr>\n",
       "      <th>max</th>\n",
       "      <td>891.000000</td>\n",
       "      <td>1.000000</td>\n",
       "      <td>3.000000</td>\n",
       "      <td>80.000000</td>\n",
       "      <td>5.000000</td>\n",
       "      <td>6.000000</td>\n",
       "      <td>512.329200</td>\n",
       "    </tr>\n",
       "  </tbody>\n",
       "</table>\n",
       "</div>"
      ],
      "text/plain": [
       "       PassengerId    Survived      Pclass         Age       SibSp  \\\n",
       "count   714.000000  714.000000  714.000000  714.000000  714.000000   \n",
       "mean    448.582633    0.406162    2.236695   29.699118    0.512605   \n",
       "std     259.119524    0.491460    0.838250   14.526497    0.929783   \n",
       "min       1.000000    0.000000    1.000000    0.420000    0.000000   \n",
       "25%     222.250000    0.000000    1.000000   20.125000    0.000000   \n",
       "50%     445.000000    0.000000    2.000000   28.000000    0.000000   \n",
       "75%     677.750000    1.000000    3.000000   38.000000    1.000000   \n",
       "max     891.000000    1.000000    3.000000   80.000000    5.000000   \n",
       "\n",
       "            Parch        Fare  \n",
       "count  714.000000  714.000000  \n",
       "mean     0.431373   34.694514  \n",
       "std      0.853289   52.918930  \n",
       "min      0.000000    0.000000  \n",
       "25%      0.000000    8.050000  \n",
       "50%      0.000000   15.741700  \n",
       "75%      1.000000   33.375000  \n",
       "max      6.000000  512.329200  "
      ]
     },
     "execution_count": 29,
     "metadata": {},
     "output_type": "execute_result"
    }
   ],
   "source": [
    "titanicdata.describe()"
   ]
  },
  {
   "cell_type": "markdown",
   "metadata": {},
   "source": [
    "we see that on average only 40% of the people survived (from this dataset) and the average age of the person aboard the ship was 29.69 "
   ]
  },
  {
   "cell_type": "markdown",
   "metadata": {},
   "source": [
    "##### Grouping data by survived, gender and age\n",
    "Here we want to see the number of people that survived, what the gender was, and how old they were "
   ]
  },
  {
   "cell_type": "code",
   "execution_count": 30,
   "metadata": {
    "collapsed": false
   },
   "outputs": [],
   "source": [
    "#Remove all instances with people who didn't live\n",
    "groupeddata = titanicdata[titanicdata.Survived != 0] \n",
    "#print groupeddata"
   ]
  },
  {
   "cell_type": "code",
   "execution_count": 31,
   "metadata": {
    "collapsed": false
   },
   "outputs": [
    {
     "name": "stdout",
     "output_type": "stream",
     "text": [
      "Survived\n",
      "1    290\n",
      "Name: PassengerId, dtype: int64\n"
     ]
    }
   ],
   "source": [
    "#group data by people who survived\n",
    "\n",
    "totalsurvivors = groupeddata.groupby(['Survived'])['PassengerId'].count()\n",
    "print totalsurvivors"
   ]
  },
  {
   "cell_type": "markdown",
   "metadata": {},
   "source": [
    "After removing the number of people who didn't survive we see that the number of people who survived was 290. Doing a spot check we see that 290/714 (total number of records after the clean up) we get a value of .406 this is equal to the mean that we saw in the previous step. I want to go ahead and create a plot to see how the 290 survivors were distributed across the the 3 classes. And at first I thought let's do a scatter plot."
   ]
  },
  {
   "cell_type": "code",
   "execution_count": 33,
   "metadata": {
    "collapsed": false
   },
   "outputs": [
    {
     "data": {
      "image/png": "[encoded data removed]",
      "text/plain": [
       "<matplotlib.figure.Figure at 0x12e6b358>"
      ]
     },
     "metadata": {},
     "output_type": "display_data"
    }
   ],
   "source": [
    "#%pylab inline \n",
    "\n",
    "x = groupeddata.groupby(['Pclass'])['PassengerId'].count()\n",
    "y = np.arange(len(x))\n",
    "yaxis = ('Class 1','Class 2', 'Class 3')\n",
    "plt.yticks(y, yaxis)\n",
    "plt.scatter(x,y, alpha = .5)\n",
    "plt.xlabel('Number of Survivors')\n",
    "plt.ylabel('Class')\n",
    "plt.title('Number of total survivors according to class')\n",
    "plt.show()"
   ]
  },
  {
   "cell_type": "markdown",
   "metadata": {},
   "source": [
    "Alright, so this wasn't quite the plot I was hoping to see, but seeing as how I grouped the passengers both by class and the Passenger ID and counted the number of people, this makes sense. But this plot is a little hard to read and doesn't quite break down the survivors into categories such as children, men and women. So let's go ahead and take a look at that in order to see if class and gender was really a factor in survival. "
   ]
  },
  {
   "cell_type": "markdown",
   "metadata": {},
   "source": [
    "#### Probability of survival by gender"
   ]
  },
  {
   "cell_type": "code",
   "execution_count": 74,
   "metadata": {
    "collapsed": false
   },
   "outputs": [
    {
     "name": "stdout",
     "output_type": "stream",
     "text": [
      "Sex\n",
      "female    0.754789\n",
      "male      0.205298\n",
      "Name: Survived, dtype: float64\n"
     ]
    }
   ],
   "source": [
    "survivalgendermean = titanicdata.groupby(['Sex'])['Survived'].mean()\n",
    "print survivalgendermean"
   ]
  },
  {
   "cell_type": "code",
   "execution_count": 89,
   "metadata": {
    "collapsed": false
   },
   "outputs": [
    {
     "data": {
      "text/plain": [
       "([<matplotlib.axis.XTick at 0x166cb438>,\n",
       "  <matplotlib.axis.XTick at 0x136d0630>],\n",
       " <a list of 2 Text xticklabel objects>)"
      ]
     },
     "execution_count": 89,
     "metadata": {},
     "output_type": "execute_result"
    },
    {
     "data": {
      "image/png": "[encoded data removed]",
      "text/plain": [
       "<matplotlib.figure.Figure at 0x1399e390>"
      ]
     },
     "metadata": {},
     "output_type": "display_data"
    }
   ],
   "source": [
    "N = len(survivalgendermean)\n",
    "x = range(N)\n",
    "plt.bar(x, survivalgendermean, align = 'center')\n",
    "plt.ylabel(\"probability of survival\")\n",
    "plt.title(\"survival rate of gender\")\n",
    "plt.xticks(np.arange(N), ('Female', 'Male'))"
   ]
  },
  {
   "cell_type": "markdown",
   "metadata": {},
   "source": [
    "Here we see that there is a much greater probability of surviving the titanic if you were female as opposed to male."
   ]
  },
  {
   "cell_type": "markdown",
   "metadata": {},
   "source": [
    "#### Probability of Survival by class"
   ]
  },
  {
   "cell_type": "code",
   "execution_count": 77,
   "metadata": {
    "collapsed": false
   },
   "outputs": [
    {
     "name": "stdout",
     "output_type": "stream",
     "text": [
      "Pclass\n",
      "1    0.655914\n",
      "2    0.479769\n",
      "3    0.239437\n",
      "Name: Survived, dtype: float64\n"
     ]
    }
   ],
   "source": [
    "survivalbyclass = titanicdata.groupby('Pclass')['Survived'].mean()\n",
    "print survivalbyclass"
   ]
  },
  {
   "cell_type": "code",
   "execution_count": 156,
   "metadata": {
    "collapsed": false
   },
   "outputs": [
    {
     "name": "stdout",
     "output_type": "stream",
     "text": [
      "Populating the interactive namespace from numpy and matplotlib\n"
     ]
    },
    {
     "data": {
      "text/plain": [
       "([<matplotlib.axis.XTick at 0x1a8bc5c0>,\n",
       "  <matplotlib.axis.XTick at 0x1a8bc128>,\n",
       "  <matplotlib.axis.XTick at 0x1a9026d8>],\n",
       " <a list of 3 Text xticklabel objects>)"
      ]
     },
     "execution_count": 156,
     "metadata": {},
     "output_type": "execute_result"
    },
    {
     "data": {
      "image/png": "[encoded data removed]",
      "text/plain": [
       "<matplotlib.figure.Figure at 0x19daa160>"
      ]
     },
     "metadata": {},
     "output_type": "display_data"
    }
   ],
   "source": [
    "%pylab inline\n",
    "\n",
    "N = len(survivalbyclass)\n",
    "x = range(N)\n",
    "plt.bar(x, survivalbyclass, align = 'center')\n",
    "plt.ylabel(\"probability of survival\")\n",
    "plt.title(\"survival rate by class\")\n",
    "plt.xticks(np.arange(N), ('First', 'Second', 'Third'))"
   ]
  },
  {
   "cell_type": "markdown",
   "metadata": {},
   "source": [
    "Also I wanted to see the probability of survival by class and if there was a greater chance to survive if you were in a higher class. The step ladder shape of the graph indicates just that."
   ]
  },
  {
   "cell_type": "markdown",
   "metadata": {},
   "source": [
    "### Probability of Survival by both Gender and Class"
   ]
  },
  {
   "cell_type": "code",
   "execution_count": 90,
   "metadata": {
    "collapsed": false
   },
   "outputs": [
    {
     "name": "stdout",
     "output_type": "stream",
     "text": [
      "Pclass  Sex   \n",
      "1       female    0.964706\n",
      "        male      0.396040\n",
      "2       female    0.918919\n",
      "        male      0.151515\n",
      "3       female    0.460784\n",
      "        male      0.150198\n",
      "Name: Survived, dtype: float64\n"
     ]
    }
   ],
   "source": [
    "survivalbyboth = titanicdata.groupby(['Pclass','Sex'])['Survived'].mean()\n",
    "print survivalbyboth"
   ]
  },
  {
   "cell_type": "code",
   "execution_count": 123,
   "metadata": {
    "collapsed": false
   },
   "outputs": [
    {
     "name": "stdout",
     "output_type": "stream",
     "text": [
      "Populating the interactive namespace from numpy and matplotlib\n",
      "Pclass\n",
      "1    0.396040\n",
      "2    0.151515\n",
      "3    0.150198\n",
      "Name: Survived, dtype: float64\n",
      "Pclass\n",
      "1    0.964706\n",
      "2    0.918919\n",
      "3    0.460784\n",
      "Name: Survived, dtype: float64\n"
     ]
    },
    {
     "data": {
      "text/plain": [
       "<matplotlib.legend.Legend at 0x191bfe10>"
      ]
     },
     "execution_count": 123,
     "metadata": {},
     "output_type": "execute_result"
    },
    {
     "data": {
      "image/png": "[encoded data removed]",
      "text/plain": [
       "<matplotlib.figure.Figure at 0x184c2e48>"
      ]
     },
     "metadata": {},
     "output_type": "display_data"
    }
   ],
   "source": [
    "#separate males and females so that we can make 2 separate bars in the chart\n",
    "%pylab inline\n",
    "survivingmales = titanicdata[titanicdata.Sex != 'female']\n",
    "survivingmalesmean = survivingmales.groupby(['Pclass'])['Survived'].mean()\n",
    "print survivingmalesmean\n",
    "survivingfemales = titanicdata[titanicdata.Sex != 'male']\n",
    "survivingfemalesmean = survivingfemales.groupby(['Pclass'])['Survived'].mean()\n",
    "print survivingfemalesmean\n",
    "\n",
    "ngroups = 3\n",
    "index = np.arange(ngroups)\n",
    "bar_width = .5 \n",
    "\n",
    "rects1 = plt.bar(index, survivingfemalesmean,bar_width, color = 'b', label = 'Female')\n",
    "rects2 = plt.bar(index+bar_width, survivingmalesmean,bar_width, color = 'g', label = 'Male')\n",
    "plt.ylabel(\"probability of survival\")\n",
    "plt.title(\"survival rate by class and gender\")\n",
    "plt.xticks(index+ bar_width, ('First', 'Second', 'Third'))\n",
    "plt.legend()"
   ]
  },
  {
   "cell_type": "markdown",
   "metadata": {},
   "source": [
    "Putting both our variables together in one graph we have the probability of survival given class and gender. we see that females were favored over males and also that class came into play here. First class was generally more favored than second and second class was generally more favored than third."
   ]
  },
  {
   "cell_type": "markdown",
   "metadata": {},
   "source": [
    "#### count of people who survived vs count of people who died"
   ]
  },
  {
   "cell_type": "markdown",
   "metadata": {},
   "source": [
    "Here I include raw counts of the data of the number of people who survived and died because giving just the proportion would tell the likelihood of someone surviving and not whether they actually survived or not."
   ]
  },
  {
   "cell_type": "code",
   "execution_count": 125,
   "metadata": {
    "collapsed": false
   },
   "outputs": [
    {
     "name": "stdout",
     "output_type": "stream",
     "text": [
      "Pclass  Sex     Survived\n",
      "1       female  0             3\n",
      "                1            82\n",
      "        male    0            61\n",
      "                1            40\n",
      "2       female  0             6\n",
      "                1            68\n",
      "        male    0            84\n",
      "                1            15\n",
      "3       female  0            55\n",
      "                1            47\n",
      "        male    0           215\n",
      "                1            38\n",
      "dtype: int64\n"
     ]
    }
   ],
   "source": [
    "numberofsurvived = titanicdata.groupby(['Pclass', 'Sex', 'Survived']).apply(len)\n",
    "print numberofsurvived"
   ]
  },
  {
   "cell_type": "code",
   "execution_count": 141,
   "metadata": {
    "collapsed": false
   },
   "outputs": [
    {
     "name": "stdout",
     "output_type": "stream",
     "text": [
      "Pclass  Sex   Survived\n",
      "1       male  0            61\n",
      "2       male  0            84\n",
      "3       male  0           215\n",
      "dtype: int64\n",
      "Pclass  Sex     Survived\n",
      "1       female  0            3\n",
      "2       female  0            6\n",
      "3       female  0           55\n",
      "dtype: int64\n"
     ]
    }
   ],
   "source": [
    "numberdead = titanicdata[titanicdata.Survived == 0]\n",
    "numberdead = numberdead[numberdead.Sex != 'female']\n",
    "numberdead = numberdead.groupby(['Pclass', 'Sex', 'Survived']).apply(len)\n",
    "numberdeadmale = numberdead \n",
    "print numberdeadmale\n",
    "\n",
    "numberdead = titanicdata[titanicdata.Survived == 0]\n",
    "numberdead = numberdead[numberdead.Sex != 'male']\n",
    "numberdead = numberdead.groupby(['Pclass', 'Sex', 'Survived']).apply(len)\n",
    "numberdeadfemale = numberdead \n",
    "print numberdeadfemale\n",
    "\n"
   ]
  },
  {
   "cell_type": "code",
   "execution_count": 143,
   "metadata": {
    "collapsed": false
   },
   "outputs": [
    {
     "name": "stdout",
     "output_type": "stream",
     "text": [
      "Pclass  Sex   Survived\n",
      "1       male  1           40\n",
      "2       male  1           15\n",
      "3       male  1           38\n",
      "dtype: int64\n",
      "Pclass  Sex     Survived\n",
      "1       female  1           82\n",
      "2       female  1           68\n",
      "3       female  1           47\n",
      "dtype: int64\n"
     ]
    }
   ],
   "source": [
    "numberalive = titanicdata[titanicdata.Survived != 0]\n",
    "numberalive = numberalive[numberalive.Sex != 'female']\n",
    "numberalive = numberalive.groupby(['Pclass', 'Sex', 'Survived']).apply(len)\n",
    "numberalivemale = numberalive\n",
    "print numberalivemale\n",
    "\n",
    "numberalive = titanicdata[titanicdata.Survived != 0]\n",
    "numberalive = numberalive[numberalive.Sex != 'male']\n",
    "numberalive = numberalive.groupby(['Pclass', 'Sex', 'Survived']).apply(len)\n",
    "numberalivefemale = numberalive\n",
    "print numberalivefemale\n",
    "\n",
    "\n"
   ]
  },
  {
   "cell_type": "code",
   "execution_count": 153,
   "metadata": {
    "collapsed": false
   },
   "outputs": [
    {
     "name": "stdout",
     "output_type": "stream",
     "text": [
      "Populating the interactive namespace from numpy and matplotlib\n"
     ]
    },
    {
     "data": {
      "text/plain": [
       "<matplotlib.legend.Legend at 0x1a2235c0>"
      ]
     },
     "execution_count": 153,
     "metadata": {},
     "output_type": "execute_result"
    },
    {
     "data": {
      "image/png": "[encoded data removed]",
      "text/plain": [
       "<matplotlib.figure.Figure at 0xea670f0>"
      ]
     },
     "metadata": {},
     "output_type": "display_data"
    }
   ],
   "source": [
    "%pylab inline\n",
    "\n",
    "ngroups = 3\n",
    "index = np.arange(ngroups)\n",
    "bar_width = .5 \n",
    "\n",
    "rects1 = plt.bar(index, numberdeadfemale, bar_width, color = 'b' ,label = 'female')\n",
    "rects2 = plt.bar(index + bar_width, numberdeadmale, bar_width,color = 'g', label = 'male')\n",
    "\n",
    "plt.ylabel(\"Number of people who died\")\n",
    "plt.title(\"Number of people who died by class and gender\")\n",
    "plt.xticks(index + bar_width , ('First', 'Second', 'Third'))\n",
    "plt.legend()"
   ]
  },
  {
   "cell_type": "markdown",
   "metadata": {},
   "source": [
    "As expected there are most deaths within the third class than the second and more deaths within the second than the first."
   ]
  },
  {
   "cell_type": "code",
   "execution_count": 155,
   "metadata": {
    "collapsed": false
   },
   "outputs": [
    {
     "name": "stdout",
     "output_type": "stream",
     "text": [
      "Populating the interactive namespace from numpy and matplotlib\n"
     ]
    },
    {
     "data": {
      "text/plain": [
       "<matplotlib.legend.Legend at 0x1a82e048>"
      ]
     },
     "execution_count": 155,
     "metadata": {},
     "output_type": "execute_result"
    },
    {
     "data": {
      "image/png": "[encoded data removed]",
      "text/plain": [
       "<matplotlib.figure.Figure at 0x1a5d4588>"
      ]
     },
     "metadata": {},
     "output_type": "display_data"
    }
   ],
   "source": [
    "%pylab inline\n",
    "\n",
    "ngroups = 3\n",
    "index = np.arange(ngroups)\n",
    "bar_width = .5 \n",
    "\n",
    "rects1 = plt.bar(index, numberalivefemale, bar_width, color = 'b' ,label = 'female')\n",
    "rects2 = plt.bar(index + bar_width, numberalivemale, bar_width,color = 'g', label = 'male')\n",
    "\n",
    "plt.ylabel(\"Number of people who survived\")\n",
    "plt.title(\"Number of people who survived by class and gender\")\n",
    "plt.xticks(index + bar_width , ('First', 'Second', 'Third'))\n",
    "plt.legend()"
   ]
  },
  {
   "cell_type": "markdown",
   "metadata": {},
   "source": [
    "As expected once again there are more survivors in the first class than the second and more survivors in the second class than the third."
   ]
  },
  {
   "cell_type": "code",
   "execution_count": 34,
   "metadata": {
    "collapsed": false
   },
   "outputs": [
    {
     "name": "stdout",
     "output_type": "stream",
     "text": [
      "Sex\n",
      "female    197\n",
      "male       93\n",
      "Name: PassengerId, dtype: int64\n"
     ]
    }
   ],
   "source": [
    "#count total number of male and female survivors\n",
    "\n",
    "totalsurvivorsbygender = groupeddata.groupby(['Sex'])['PassengerId'].count()\n",
    "print totalsurvivorsbygender"
   ]
  },
  {
   "cell_type": "markdown",
   "metadata": {},
   "source": [
    "Breaking our survivors down by gender we see that 104 more females made it out than males. This is starting to support my Titanic movie theory of \"Women and children first\" but we need to do some further analysis and we also need to keep in mind that this entire data set is only a sample as there were 2229 total passengers on board."
   ]
  },
  {
   "cell_type": "code",
   "execution_count": 35,
   "metadata": {
    "collapsed": false
   },
   "outputs": [
    {
     "data": {
      "text/plain": [
       "Survived       \n",
       "1         count    290.000000\n",
       "          mean      28.343690\n",
       "          std       14.950952\n",
       "          min        0.420000\n",
       "          25%       19.000000\n",
       "          50%       28.000000\n",
       "          75%       36.000000\n",
       "          max       80.000000\n",
       "Name: Age, dtype: float64"
      ]
     },
     "execution_count": 35,
     "metadata": {},
     "output_type": "execute_result"
    }
   ],
   "source": [
    "#count average, min, and max age of total survivors\n",
    "survivordata  = groupeddata.groupby(['Survived'])['Age']\n",
    "survivordata.describe()"
   ]
  },
  {
   "cell_type": "markdown",
   "metadata": {},
   "source": [
    "I got curious and wanted to see the average age of the survivor and here we see that the average survivor was in their late 20s but there was a pretty big standard deviation of roughly 15 years."
   ]
  },
  {
   "cell_type": "code",
   "execution_count": 36,
   "metadata": {
    "collapsed": false,
    "scrolled": true
   },
   "outputs": [
    {
     "name": "stdout",
     "output_type": "stream",
     "text": [
      "61\n"
     ]
    }
   ],
   "source": [
    "#how many of the people who did survive were children(in this case < 18)\n",
    "\n",
    "survivingchildren =  titanicdata[titanicdata.Survived != 0]\n",
    "survivingchildren = survivingchildren[survivingchildren.Age < 18]\n",
    "print len(survivingchildren)\n",
    "\n",
    "#print survivingchildren\n"
   ]
  },
  {
   "cell_type": "markdown",
   "metadata": {},
   "source": [
    "I wanted to first break the survivors down into children and adults. Here I took the number of people that survived from the data and the I broke it down to only people who were under the age of 18. I got 61 survivors as a result."
   ]
  },
  {
   "cell_type": "code",
   "execution_count": 37,
   "metadata": {
    "collapsed": false
   },
   "outputs": [
    {
     "name": "stdout",
     "output_type": "stream",
     "text": [
      "Pclass\n",
      "1    11\n",
      "2    21\n",
      "3    29\n",
      "Name: PassengerId, dtype: int64\n"
     ]
    }
   ],
   "source": [
    "#how many of the children who survived were in upper middle and lower classes\n",
    "kidsbyclass = survivingchildren.groupby(['Pclass'])['PassengerId'].count()\n",
    "print kidsbyclass"
   ]
  },
  {
   "cell_type": "markdown",
   "metadata": {},
   "source": [
    "I then went ahead and broke down the 61 survivors by class and found that we had 11 first class children, 21 second class children, and 29 third class children"
   ]
  },
  {
   "cell_type": "code",
   "execution_count": 38,
   "metadata": {
    "collapsed": false
   },
   "outputs": [
    {
     "name": "stdout",
     "output_type": "stream",
     "text": [
      "Populating the interactive namespace from numpy and matplotlib\n"
     ]
    },
    {
     "data": {
      "image/png": "[encoded data removed]",
      "text/plain": [
       "<matplotlib.figure.Figure at 0x122735c0>"
      ]
     },
     "metadata": {},
     "output_type": "display_data"
    }
   ],
   "source": [
    "%pylab inline\n",
    "\n",
    "yaxis = ('Class 1','Class 2', 'Class 3')\n",
    "y_pos = np.arange(len(kidsbyclass))\n",
    "plt.barh(y_pos, kidsbyclass, align='center', alpha=1)\n",
    "plt.yticks(y_pos, yaxis)\n",
    "plt.title(\"number of Children that survived according to class\")\n",
    "plt.xlabel('Number of Children')\n",
    "plt.ylabel('Class')\n",
    "plt.show()\n"
   ]
  },
  {
   "cell_type": "markdown",
   "metadata": {},
   "source": [
    "Since the scatter plot didn't work earlier, I wanted to represent the findings as a bar graph. I feel as though this is much easier to read. Mathematically if we take 61 survivors away from the total number of survivors, 290, we should get 229 survivors."
   ]
  },
  {
   "cell_type": "code",
   "execution_count": 39,
   "metadata": {
    "collapsed": false,
    "scrolled": true
   },
   "outputs": [
    {
     "name": "stdout",
     "output_type": "stream",
     "text": [
      "229\n"
     ]
    }
   ],
   "source": [
    "#how many of the people who did survive were adults broken down by gender\n",
    "survivingadults = titanicdata[titanicdata.Survived != 0]\n",
    "#survivingadults = survivingadults - survivingchildren\n",
    "survivingadults = survivingadults[survivingadults.Age >= 18]\n",
    "print len(survivingadults) "
   ]
  },
  {
   "cell_type": "markdown",
   "metadata": {},
   "source": [
    "In this step I do just that and find that there are 229 adult survivors ages 18 and up. I want to now further break down the data we have by gender and class again."
   ]
  },
  {
   "cell_type": "code",
   "execution_count": 40,
   "metadata": {
    "collapsed": false,
    "scrolled": true
   },
   "outputs": [
    {
     "name": "stdout",
     "output_type": "stream",
     "text": [
      "Sex\n",
      "female    159\n",
      "male       70\n",
      "Name: PassengerId, dtype: int64\n"
     ]
    }
   ],
   "source": [
    "#number of female adults so we can break them down by class in the next step\n",
    "femaleadults = survivingadults[survivingadults.Sex != 'male']\n",
    "\n",
    "#number of adults both male and female that survived\n",
    "numberofadults = survivingadults.groupby(['Sex'])['PassengerId'].count()\n",
    "print numberofadults"
   ]
  },
  {
   "cell_type": "markdown",
   "metadata": {},
   "source": [
    "I removed the male passengers and then grouped the number of female passengers by the categories 'Sex' and 'PassengerId' and then I counted the remaining records. I got 159 records of adult females that survived the titanic. I also got 70 adult males who survived. This record matches up with our total because 159+70+61 = 290"
   ]
  },
  {
   "cell_type": "code",
   "execution_count": 41,
   "metadata": {
    "collapsed": false
   },
   "outputs": [
    {
     "name": "stdout",
     "output_type": "stream",
     "text": [
      "Sex     Pclass\n",
      "female  1         75\n",
      "        2         56\n",
      "        3         28\n",
      "Name: PassengerId, dtype: int64\n"
     ]
    }
   ],
   "source": [
    "femaleadultsbyclass = femaleadults.groupby(['Sex','Pclass'])['PassengerId'].count()\n",
    "print femaleadultsbyclass"
   ]
  },
  {
   "cell_type": "markdown",
   "metadata": {},
   "source": [
    "I then further broke it down by class and this shows us that there were 75 females from first class, 56 females from second class and 28 females from third class. Doing a spot check 75+56+28 = 159. This data hints at the fact that rich females did have more of a chance to make it out alive."
   ]
  },
  {
   "cell_type": "code",
   "execution_count": 42,
   "metadata": {
    "collapsed": false
   },
   "outputs": [
    {
     "name": "stdout",
     "output_type": "stream",
     "text": [
      "Populating the interactive namespace from numpy and matplotlib\n"
     ]
    },
    {
     "data": {
      "image/png": "[encoded data removed]",
      "text/plain": [
       "<matplotlib.figure.Figure at 0x132816d8>"
      ]
     },
     "metadata": {},
     "output_type": "display_data"
    }
   ],
   "source": [
    "%pylab inline\n",
    "\n",
    "yaxis = ('Class 1','Class 2', 'Class 3')\n",
    "y_pos = np.arange(len(femaleadultsbyclass))\n",
    "plt.barh(y_pos, femaleadultsbyclass, align='center', alpha=1)\n",
    "plt.yticks(y_pos, yaxis)\n",
    "plt.title(\"number of female adults that survived according to class\")\n",
    "plt.xlabel('Number of female adults')\n",
    "plt.ylabel('Class')\n",
    "plt.show()"
   ]
  },
  {
   "cell_type": "markdown",
   "metadata": {},
   "source": [
    "Here I have graphed out by class the number female adults that survived. From this graph I can start to make inferences about the rest of the population. I am going to do the same process as before on the male population. Doing a spot check we should get 70 male adults because 290 - 61 - 159 = 70"
   ]
  },
  {
   "cell_type": "code",
   "execution_count": 43,
   "metadata": {
    "collapsed": false,
    "scrolled": true
   },
   "outputs": [],
   "source": [
    "maleadults = survivingadults[survivingadults.Sex != 'female']"
   ]
  },
  {
   "cell_type": "code",
   "execution_count": 44,
   "metadata": {
    "collapsed": false
   },
   "outputs": [
    {
     "name": "stdout",
     "output_type": "stream",
     "text": [
      "Sex   Pclass\n",
      "male  1         36\n",
      "      2          6\n",
      "      3         28\n",
      "Name: PassengerId, dtype: int64\n"
     ]
    }
   ],
   "source": [
    "maleadultsbyclass = maleadults.groupby(['Sex','Pclass'])['PassengerId'].count()\n",
    "print maleadultsbyclass"
   ]
  },
  {
   "cell_type": "markdown",
   "metadata": {},
   "source": [
    "When I break the males down by class I see something interesting happening, there are almost as many 3rd class males who survived as there are first class males. This is interesting to see. With the female adults it was step ladder with class 1 having the most and class 2 having the second most and then class 3 having the least. So why then is it different for the male adults?"
   ]
  },
  {
   "cell_type": "code",
   "execution_count": 45,
   "metadata": {
    "collapsed": false
   },
   "outputs": [
    {
     "name": "stdout",
     "output_type": "stream",
     "text": [
      "Populating the interactive namespace from numpy and matplotlib\n"
     ]
    },
    {
     "data": {
      "image/png": "[encoded data removed]",
      "text/plain": [
       "<matplotlib.figure.Figure at 0x135fb160>"
      ]
     },
     "metadata": {},
     "output_type": "display_data"
    }
   ],
   "source": [
    "%pylab inline\n",
    "\n",
    "yaxis = ('Class 1','Class 2', 'Class 3')\n",
    "y_pos = np.arange(len(maleadultsbyclass))\n",
    "plt.barh(y_pos, maleadultsbyclass, align='center', alpha=1)\n",
    "plt.yticks(y_pos, yaxis)\n",
    "plt.title(\"number of male adults that survived according to class\")\n",
    "plt.xlabel('Number of male adults')\n",
    "plt.ylabel('Class')\n",
    "plt.show()"
   ]
  },
  {
   "cell_type": "markdown",
   "metadata": {},
   "source": [
    "looking at this, the graph isn't the perfect step ladder like the previous graph. I have a theory and I think there are almost as many 3rd class males that survived as first because 3rd class included workers aboard the ship. When people were escaping to the life boats these workers would guide people to the boats and then commandeer the boats until help arrived and the entire boat survived. "
   ]
  },
  {
   "cell_type": "markdown",
   "metadata": {},
   "source": [
    "## Limitations of the dataset"
   ]
  },
  {
   "cell_type": "markdown",
   "metadata": {},
   "source": [
    "There are various limitations within this dataset and due to these limitations we are required to operate under big assumptions everywhere. For example the dataset is filled with missing values. The way in which we clean up the missing values adds potential for drawbacks to the analysis. For example say we fill in a missing value with a 0 when performing an analysis we will have various different issues when accessing the data if we go to compare the data. If we remove the missing values' instance entirely we are not only limiting our dataset even more but we might also be removing a field that might be important to us in a later analysis and in essence we could see this ripple effect happening across the data.  "
   ]
  },
  {
   "cell_type": "markdown",
   "metadata": {},
   "source": [
    "There are also limitations that arise with doing an analysis and making assumptions without doing a statistical z or t test. Since we have made assumptions only to one sample picked from the entire population, we can not apply the assumption back to the entire population. While the findings may work for the sample they might not work for the entire population set."
   ]
  },
  {
   "cell_type": "markdown",
   "metadata": {},
   "source": [
    "The data set also does not distinguish between correlation and causation. While we found earlier that it was more likely for females in the first class to survive the Titanic, and it did match our sample this might not hold true when applied to the population. The data set also does not tell us to make any assumptions about the population in order to conduct our analysis."
   ]
  },
  {
   "cell_type": "markdown",
   "metadata": {},
   "source": [
    "## Conclusions"
   ]
  },
  {
   "cell_type": "markdown",
   "metadata": {},
   "source": [
    "Using the question that I proposed and doing analysis on the data my conclusions are as follows:\n",
    "<ol>\n",
    "1.) The quote \"women and children first\" from the movie is somewhat accurate. \n",
    "2.) There are more women that survived than children and more children that survived than men\n",
    "3.) From the sample that we analyzed we can say that the factor that made you most likely to survive was if you were a female in class 1\n",
    "4.) The number of third class males and females were equal, It is my assumption that both males and females in this class were workers aboard the ship who commandeered life boats\n",
    "</ol>"
   ]
  },
  {
   "cell_type": "markdown",
   "metadata": {},
   "source": [
    " "
   ]
  },
  {
   "cell_type": "markdown",
   "metadata": {},
   "source": [
    "References:\n",
    "http://stackoverflow.com/questions/18172851/deleting-dataframe-row-in-pandas-based-on-column-value\n",
    "http://stackoverflow.com/questions/19384532/how-to-count-number-of-rows-in-a-group-in-pandas-group-by-object\n",
    "https://pythonspot.com/en/matplotlib-bar-chart/\n",
    "http://matplotlib.org/examples/shapes_and_collections/scatter_demo.html\n",
    "http://matplotlib.org/examples/pylab_examples/barchart_demo.html"
   ]
  },
  {
   "cell_type": "markdown",
   "metadata": {
    "collapsed": true
   },
   "source": [
    " "
   ]
  },
  {
   "cell_type": "code",
   "execution_count": null,
   "metadata": {
    "collapsed": true
   },
   "outputs": [],
   "source": []
  }
 ],
 "metadata": {
  "anaconda-cloud": {},
  "kernelspec": {
   "display_name": "Python [default]",
   "language": "python",
   "name": "python2"
  },
  "language_info": {
   "codemirror_mode": {
    "name": "ipython",
    "version": 2
   },
   "file_extension": ".py",
   "mimetype": "text/x-python",
   "name": "python",
   "nbconvert_exporter": "python",
   "pygments_lexer": "ipython2",
   "version": "2.7.12"
  }
 },
 "nbformat": 4,
 "nbformat_minor": 1
}
